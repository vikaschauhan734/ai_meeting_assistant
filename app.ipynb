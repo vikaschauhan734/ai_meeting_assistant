{
 "cells": [
  {
   "cell_type": "code",
   "execution_count": null,
   "id": "a8aebb89",
   "metadata": {},
   "outputs": [],
   "source": [
    "from langchain_groq import ChatGroq"
   ]
  },
  {
   "cell_type": "code",
   "execution_count": 3,
   "id": "5d611a35",
   "metadata": {},
   "outputs": [
    {
     "data": {
      "text/plain": [
       "True"
      ]
     },
     "execution_count": 3,
     "metadata": {},
     "output_type": "execute_result"
    }
   ],
   "source": [
    "import os\n",
    "from dotenv import load_dotenv\n",
    "load_dotenv()"
   ]
  },
  {
   "cell_type": "code",
   "execution_count": 6,
   "id": "694092ad",
   "metadata": {},
   "outputs": [],
   "source": [
    "from langchain_core.prompts import PromptTemplate"
   ]
  },
  {
   "cell_type": "code",
   "execution_count": 9,
   "id": "5213fc51",
   "metadata": {},
   "outputs": [],
   "source": [
    "from typing import TypedDict, Annotated, Optional"
   ]
  },
  {
   "cell_type": "code",
   "execution_count": 13,
   "id": "243de1e6",
   "metadata": {},
   "outputs": [],
   "source": [
    "from langchain.output_parsers import StructuredOutputParser, ResponseSchema"
   ]
  },
  {
   "cell_type": "code",
   "execution_count": null,
   "id": "a16f648e",
   "metadata": {},
   "outputs": [],
   "source": [
    "# Loading environment variable\n",
    "os.environ[\"GROQ_API_KEY\"] = os.getenv(\"GROQ_API_KEY\")"
   ]
  },
  {
   "cell_type": "code",
   "execution_count": 5,
   "id": "a4b94b40",
   "metadata": {},
   "outputs": [],
   "source": [
    "# Define Chat Model\n",
    "llm = ChatGroq(model_name=\"Llama3-8b-8192\", temperature=0)"
   ]
  },
  {
   "cell_type": "code",
   "execution_count": 8,
   "id": "2af0940a",
   "metadata": {},
   "outputs": [],
   "source": [
    "# Prompt Template\n",
    "template = PromptTemplate(template=\"\"\"\n",
    "You are an AI meeting assistant chatbot. You need to summarize the meeting into key points.\n",
    "The meeting caption is as follows:\n",
    "{meeting_caption}\"\"\",\n",
    "input_variables=['meeting_caption'])"
   ]
  },
  {
   "cell_type": "code",
   "execution_count": 11,
   "id": "cce91975",
   "metadata": {},
   "outputs": [],
   "source": [
    "# Schema\n",
    "class Meeting(TypedDict):\n",
    "    summary: Annotated[str, \"A brief overview of what the meeting was about.\"]\n",
    "    key_discussion_points: Annotated[list[str], \"Main topics and ideas that were discussed during the meeting.\"]\n",
    "    action_items: Annotated[Optional[list[str]], \"Specific tasks assigned to team members to be completed after the meeting.\"]\n",
    "    decisions_made: Annotated[Optional[list[str]], \"Final choices or conclusions reached during the meeting.\"]\n",
    "    agenda_highlights: Annotated[Optional[list[str]], \"Important items that were planned and discussed from the meeting agenda.\"]\n",
    "    speaker_highlights: Annotated[Optional[list[str]], \"Key contributions or points made by each speaker or presenter.\"]\n",
    "    important_announcements: Annotated[Optional[list[str]], \"Notable updates or news shared during the meeting.\"]\n",
    "    follow_up_tasks: Annotated[Optional[list[str]], \"Tasks or actions that need to be tracked after the meeting.\"]\n",
    "    next_steps: Annotated[Optional[list[str]], \"Planned future actions or direction agreed upon in the meeting.\"]"
   ]
  },
  {
   "cell_type": "code",
   "execution_count": 12,
   "id": "8e0e1fa0",
   "metadata": {},
   "outputs": [],
   "source": [
    "structured_llm = llm.with_structured_output(Meeting)"
   ]
  },
  {
   "cell_type": "code",
   "execution_count": null,
   "id": "445011de",
   "metadata": {},
   "outputs": [],
   "source": []
  }
 ],
 "metadata": {
  "kernelspec": {
   "display_name": "venv",
   "language": "python",
   "name": "python3"
  },
  "language_info": {
   "codemirror_mode": {
    "name": "ipython",
    "version": 3
   },
   "file_extension": ".py",
   "mimetype": "text/x-python",
   "name": "python",
   "nbconvert_exporter": "python",
   "pygments_lexer": "ipython3",
   "version": "3.13.1"
  }
 },
 "nbformat": 4,
 "nbformat_minor": 5
}
