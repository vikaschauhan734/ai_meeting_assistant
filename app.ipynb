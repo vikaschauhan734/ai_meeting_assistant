{
 "cells": [
  {
   "cell_type": "code",
   "execution_count": 1,
   "id": "a8aebb89",
   "metadata": {},
   "outputs": [],
   "source": [
    "from langchain_groq import ChatGroq"
   ]
  },
  {
   "cell_type": "code",
   "execution_count": 2,
   "id": "5d611a35",
   "metadata": {},
   "outputs": [
    {
     "data": {
      "text/plain": [
       "True"
      ]
     },
     "execution_count": 2,
     "metadata": {},
     "output_type": "execute_result"
    }
   ],
   "source": [
    "import os\n",
    "from dotenv import load_dotenv\n",
    "load_dotenv()"
   ]
  },
  {
   "cell_type": "code",
   "execution_count": 3,
   "id": "694092ad",
   "metadata": {},
   "outputs": [],
   "source": [
    "from langchain_core.prompts import PromptTemplate"
   ]
  },
  {
   "cell_type": "code",
   "execution_count": 4,
   "id": "5213fc51",
   "metadata": {},
   "outputs": [],
   "source": [
    "from typing import TypedDict, Annotated, Optional"
   ]
  },
  {
   "cell_type": "code",
   "execution_count": 6,
   "id": "a16f648e",
   "metadata": {},
   "outputs": [],
   "source": [
    "# Loading environment variable\n",
    "os.environ[\"GROQ_API_KEY\"] = os.getenv(\"GROQ_API_KEY\")"
   ]
  },
  {
   "cell_type": "code",
   "execution_count": 7,
   "id": "a4b94b40",
   "metadata": {},
   "outputs": [],
   "source": [
    "# Define Chat Model\n",
    "llm = ChatGroq(model_name=\"Llama3-8b-8192\", temperature=0)"
   ]
  },
  {
   "cell_type": "code",
   "execution_count": 8,
   "id": "2af0940a",
   "metadata": {},
   "outputs": [],
   "source": [
    "# Prompt Template\n",
    "prompt = PromptTemplate(template=\"\"\"\n",
    "You are an intelligent AI assistant designed to summarize meeting transcripts into structured and concise formats.\n",
    "\n",
    "Based on the meeting caption provided below, extract and present the following:\n",
    "1. A brief summary of the meeting.\n",
    "2. Key discussion points — main topics or issues discussed.\n",
    "3. Action items — specific tasks or assignments.\n",
    "4. Decisions made — conclusions or final calls during the meeting.\n",
    "5. Agenda highlights — noteworthy topics from the original agenda.\n",
    "6. Speaker highlights — unique contributions from specific participants.\n",
    "7. Important announcements — critical news or updates shared.\n",
    "8. Follow-up tasks — items that require future tracking.\n",
    "9. Next steps — agreed-upon future plans or directions.\n",
    "\n",
    "Ensure your responses are clear, bullet-pointed where applicable, and directly related to the content of the meeting.\n",
    "\n",
    "Meeting Caption:\n",
    "{meeting_caption}\"\"\",\n",
    "input_variables=['meeting_caption'])"
   ]
  },
  {
   "cell_type": "code",
   "execution_count": 9,
   "id": "cce91975",
   "metadata": {},
   "outputs": [],
   "source": [
    "# Schema\n",
    "class Meeting(TypedDict):\n",
    "    summary: Annotated[str, \"A brief overview of what the meeting was about.\"]\n",
    "    key_discussion_points: Annotated[list[str], \"Main topics and ideas that were discussed during the meeting.\"]\n",
    "    action_items: Annotated[Optional[list[str]], \"Specific tasks assigned to team members to be completed after the meeting.\"]\n",
    "    decisions_made: Annotated[Optional[list[str]], \"Final choices or conclusions reached during the meeting.\"]\n",
    "    agenda_highlights: Annotated[Optional[list[str]], \"Important items that were planned and discussed from the meeting agenda.\"]\n",
    "    speaker_highlights: Annotated[Optional[list[str]], \"Key contributions or points made by each speaker or presenter.\"]\n",
    "    important_announcements: Annotated[Optional[list[str]], \"Notable updates or news shared during the meeting.\"]\n",
    "    follow_up_tasks: Annotated[Optional[list[str]], \"Tasks or actions that need to be tracked after the meeting.\"]\n",
    "    next_steps: Annotated[Optional[list[str]], \"Planned future actions or direction agreed upon in the meeting.\"]"
   ]
  },
  {
   "cell_type": "code",
   "execution_count": 10,
   "id": "8e0e1fa0",
   "metadata": {},
   "outputs": [],
   "source": [
    "structured_llm = llm.with_structured_output(Meeting)"
   ]
  },
  {
   "cell_type": "code",
   "execution_count": 11,
   "id": "445011de",
   "metadata": {},
   "outputs": [],
   "source": [
    "chain = prompt | structured_llm"
   ]
  },
  {
   "cell_type": "markdown",
   "id": "b44e3783",
   "metadata": {},
   "source": [
    "### Meeting Caption\n",
    "Today’s sprint planning meeting covered the current progress on the Q2 product roadmap. Sarah presented updates on the mobile app development, mentioning the delay in backend API integration due to unexpected dependencies. John highlighted the need for improved QA processes and proposed weekly regression testing. The team discussed reprioritizing the dashboard analytics feature to accommodate the new client’s request. It was decided to move the UI redesign task to the next sprint. Maya announced the new security compliance audit scheduled for next month. The meeting concluded with assigning follow-up tasks and confirming the next review meeting for Friday."
   ]
  },
  {
   "cell_type": "code",
   "execution_count": 18,
   "id": "fffa45a7",
   "metadata": {},
   "outputs": [],
   "source": [
    "result = chain.invoke({'meeting_caption':\"Today’s sprint planning meeting covered the current progress on the Q2 product roadmap. Sarah presented updates on the mobile app development, mentioning the delay in backend API integration due to unexpected dependencies. John highlighted the need for improved QA processes and proposed weekly regression testing. The team discussed reprioritizing the dashboard analytics feature to accommodate the new client’s request. It was decided to move the UI redesign task to the next sprint. Maya announced the new security compliance audit scheduled for next month. The meeting concluded with assigning follow-up tasks and confirming the next review meeting for Friday.\"})"
   ]
  },
  {
   "cell_type": "code",
   "execution_count": 19,
   "id": "9462bad8",
   "metadata": {},
   "outputs": [
    {
     "data": {
      "text/plain": [
       "{'summary': \"Today's sprint planning meeting covered the current progress on the Q2 product roadmap.\",\n",
       " 'key_discussion_points': ['Delay in backend API integration due to unexpected dependencies',\n",
       "  'Need for improved QA processes',\n",
       "  \"Reprioritizing dashboard analytics feature to accommodate new client's request\"],\n",
       " 'action_items': ['Weekly regression testing', 'Follow-up tasks assigned'],\n",
       " 'decisions_made': ['Move UI redesign task to the next sprint'],\n",
       " 'agenda_highlights': ['Current progress on the Q2 product roadmap'],\n",
       " 'speaker_highlights': [\"Sarah's updates on mobile app development\",\n",
       "  \"John's proposal for improved QA processes\"],\n",
       " 'important_announcements': ['New security compliance audit scheduled for next month'],\n",
       " 'follow_up_tasks': ['Weekly regression testing',\n",
       "  'New security compliance audit'],\n",
       " 'next_steps': ['Next review meeting for Friday']}"
      ]
     },
     "execution_count": 19,
     "metadata": {},
     "output_type": "execute_result"
    }
   ],
   "source": [
    "result"
   ]
  },
  {
   "cell_type": "markdown",
   "id": "ee5e331d",
   "metadata": {},
   "source": [
    "### Topic: Launching New E-Learning Platform\n",
    "\n",
    "Project Manager (Neha): \"Thanks for joining, everyone. This is our kickoff for the e-learning platform. We’re targeting a soft launch by June 15. Let’s go over the roadmap, assign responsibilities, and flag early risks.\"\n",
    "\n",
    "Tech Lead (Ravi): \"We’ve broken down the backend into three modules: user management, content delivery, and reporting. Each can be developed independently, which should speed things up.\"\n",
    "\n",
    "Design Lead (Anjali): \"We’ll follow a clean, mobile-first layout. Initial wireframes will be ready by next Friday. I’ll need feedback by Monday to stay on schedule.\"\n",
    "\n",
    "QA Lead (Tanvi): \"Just a heads up—testing will need at least 2 weeks post-dev. We’ll focus on functionality first, then UI.\"\n",
    "\n",
    "Neha: \"Perfect. I’ll update the Gantt chart and share it in Slack. Let’s meet every Monday for updates. Any concerns?\"\n",
    "\n",
    "Ravi: \"Database access for the staging server—still waiting on credentials.\"\n",
    "\n",
    "Neha: \"Noted. I’ll escalate that today. Anything else?\"\n",
    "\n",
    "Team: “All good.”"
   ]
  },
  {
   "cell_type": "code",
   "execution_count": 20,
   "id": "b86e3b95",
   "metadata": {},
   "outputs": [],
   "source": [
    "result = chain.invoke({'meeting_caption':\"\"\"Topic: Launching New E-Learning Platform\n",
    "\n",
    "Project Manager (Neha):\n",
    "\"Thanks for joining, everyone. This is our kickoff for the e-learning platform. We’re targeting a soft launch by June 15. Let’s go over the roadmap, assign responsibilities, and flag early risks.\"\n",
    "\n",
    "Tech Lead (Ravi):\n",
    "\"We’ve broken down the backend into three modules: user management, content delivery, and reporting. Each can be developed independently, which should speed things up.\"\n",
    "\n",
    "Design Lead (Anjali):\n",
    "\"We’ll follow a clean, mobile-first layout. Initial wireframes will be ready by next Friday. I’ll need feedback by Monday to stay on schedule.\"\n",
    "\n",
    "QA Lead (Tanvi):\n",
    "\"Just a heads up—testing will need at least 2 weeks post-dev. We’ll focus on functionality first, then UI.\"\n",
    "\n",
    "Neha:\n",
    "\"Perfect. I’ll update the Gantt chart and share it in Slack. Let’s meet every Monday for updates. Any concerns?\"\n",
    "\n",
    "Ravi:\n",
    "\"Database access for the staging server—still waiting on credentials.\"\n",
    "\n",
    "Neha:\n",
    "\"Noted. I’ll escalate that today. Anything else?\"\n",
    "\n",
    "Team:\n",
    "“All good.”\"\"\"})"
   ]
  },
  {
   "cell_type": "code",
   "execution_count": 21,
   "id": "abca9f41",
   "metadata": {},
   "outputs": [
    {
     "data": {
      "text/plain": [
       "{'summary': 'The meeting discussed the launch of the new e-learning platform, targeting a soft launch by June 15.',\n",
       " 'key_discussion_points': ['Backend modules: user management, content delivery, and reporting',\n",
       "  'Clean, mobile-first layout for the platform',\n",
       "  'Testing will focus on functionality first, then UI'],\n",
       " 'action_items': ['Update Gantt chart and share in Slack',\n",
       "  'Escalate database access issue for staging server'],\n",
       " 'decisions_made': ['Soft launch by June 15'],\n",
       " 'agenda_highlights': ['Roadmap, responsibilities, and early risks'],\n",
       " 'speaker_highlights': ['Ravi: backend modules and development speed',\n",
       "  'Anjali: clean, mobile-first layout and wireframes',\n",
       "  'Tanvi: testing plan and timeline'],\n",
       " 'important_announcements': ['Database access issue for staging server'],\n",
       " 'follow_up_tasks': ['Provide feedback on wireframes by Monday',\n",
       "  'Focus on functionality in testing'],\n",
       " 'next_steps': ['Meet every Monday for updates']}"
      ]
     },
     "execution_count": 21,
     "metadata": {},
     "output_type": "execute_result"
    }
   ],
   "source": [
    "result"
   ]
  },
  {
   "cell_type": "markdown",
   "id": "e2a2239d",
   "metadata": {},
   "source": [
    "### Topic: Q2 Growth Strategy\n",
    "\n",
    "CEO (Aditya): \"Let’s begin with revenue numbers. We hit ₹2.8 crore this month, which is 6% above target. Great work. Let’s dive into what worked and what needs improvement.\"\n",
    "\n",
    "Sales Director (Meenal): \"Outbound campaigns brought in 40% of new leads. We did A/B testing on our email sequences and saw better engagement with the shorter, personalized version.\"\n",
    "\n",
    "Marketing Head (Zoya): \"Social media growth was modest—up 3.5%, but conversions are low. We may need to revise the targeting strategy.\"\n",
    "\n",
    "COO (Arvind): \"I suggest integrating CRM and marketing tools for better tracking. We’re losing visibility on lead quality once it passes from ads to sales.\"\n",
    "\n",
    "Aditya: \"Good point. Let’s allocate budget for HubSpot integration. Zoya, can you prepare a proposal?\"\n",
    "\n",
    "Zoya: \"On it. Will circulate by EOD tomorrow.\"\n",
    "\n",
    "Finance Head (Nikhil): \"One concern—spend on LinkedIn ads jumped 40% month-over-month. Are we seeing equivalent ROI?\"\n",
    "\n",
    "Meenal: \"Not quite, but that spend directly closed two enterprise accounts. I’ll do a cost-per-acquisition analysis.\"\n",
    "\n",
    "Aditya: \"Let’s track that monthly. Everyone, submit updated OKRs by Friday. Anything else?\"\n",
    "\n",
    "Team: “No further updates.”"
   ]
  },
  {
   "cell_type": "code",
   "execution_count": 22,
   "id": "8e5a4274",
   "metadata": {},
   "outputs": [],
   "source": [
    "result = chain.invoke({'meeting_caption':\"\"\"Topic: Q2 Growth Strategy\n",
    "\n",
    "CEO (Aditya):\n",
    "\"Let’s begin with revenue numbers. We hit ₹2.8 crore this month, which is 6% above target. Great work. Let’s dive into what worked and what needs improvement.\"\n",
    "\n",
    "Sales Director (Meenal):\n",
    "\"Outbound campaigns brought in 40% of new leads. We did A/B testing on our email sequences and saw better engagement with the shorter, personalized version.\"\n",
    "\n",
    "Marketing Head (Zoya):\n",
    "\"Social media growth was modest—up 3.5%, but conversions are low. We may need to revise the targeting strategy.\"\n",
    "\n",
    "COO (Arvind):\n",
    "\"I suggest integrating CRM and marketing tools for better tracking. We’re losing visibility on lead quality once it passes from ads to sales.\"\n",
    "\n",
    "Aditya:\n",
    "\"Good point. Let’s allocate budget for HubSpot integration. Zoya, can you prepare a proposal?\"\n",
    "\n",
    "Zoya:\n",
    "\"On it. Will circulate by EOD tomorrow.\"\n",
    "\n",
    "Finance Head (Nikhil):\n",
    "\"One concern—spend on LinkedIn ads jumped 40% month-over-month. Are we seeing equivalent ROI?\"\n",
    "\n",
    "Meenal:\n",
    "\"Not quite, but that spend directly closed two enterprise accounts. I’ll do a cost-per-acquisition analysis.\"\n",
    "\n",
    "Aditya:\n",
    "\"Let’s track that monthly. Everyone, submit updated OKRs by Friday. Anything else?\"\n",
    "\n",
    "Team:\n",
    "“No further updates.”\"\"\"})"
   ]
  },
  {
   "cell_type": "code",
   "execution_count": 23,
   "id": "75329bae",
   "metadata": {},
   "outputs": [
    {
     "data": {
      "text/plain": [
       "{'summary': 'The meeting discussed Q2 growth strategy, reviewing revenue numbers, and identifying areas for improvement.',\n",
       " 'key_discussion_points': ['Revenue numbers: ₹2.8 crore, 6% above target',\n",
       "  \"Outbound campaigns' effectiveness\",\n",
       "  'Social media growth and targeting strategy',\n",
       "  'CRM and marketing tool integration for better tracking'],\n",
       " 'action_items': ['Allocate budget for HubSpot integration',\n",
       "  'Prepare a proposal for CRM integration',\n",
       "  'Submit updated OKRs by Friday',\n",
       "  'Cost-per-acquisition analysis on LinkedIn ads'],\n",
       " 'decisions_made': ['Allocate budget for HubSpot integration',\n",
       "  'Track spend on LinkedIn ads monthly'],\n",
       " 'agenda_highlights': ['Revenue numbers',\n",
       "  'Outbound campaigns',\n",
       "  'Social media growth'],\n",
       " 'speaker_highlights': ['Meenal: A/B testing on email sequences',\n",
       "  'Zoya: Proposal for CRM integration'],\n",
       " 'important_announcements': ['Spending on LinkedIn ads jumped 40% month-over-month'],\n",
       " 'follow_up_tasks': ['Track spend on LinkedIn ads monthly',\n",
       "  'Cost-per-acquisition analysis on LinkedIn ads'],\n",
       " 'next_steps': ['Submit updated OKRs by Friday',\n",
       "  'Integrate CRM and marketing tools']}"
      ]
     },
     "execution_count": 23,
     "metadata": {},
     "output_type": "execute_result"
    }
   ],
   "source": [
    "result"
   ]
  },
  {
   "cell_type": "markdown",
   "id": "663c4b37",
   "metadata": {},
   "source": [
    "### Topic: Post-Launch Review of Mobile App Update\n",
    "\n",
    "Product Manager (Riya): \"Now that v3.0 is out, we’ve collected feedback from 500+ users. Let’s discuss performance, bugs, and user feedback.\"\n",
    "\n",
    "Developer (Sandeep): \"Good news: crash rate is below 0.2%. The new authentication flow is stable. One issue—we missed edge cases on OTP resend logic.\"\n",
    "\n",
    "QA Analyst (Fatima): \"We logged 17 bugs post-release, most minor. The OTP issue has been patched in the hotfix.\"\n",
    "\n",
    "UX Designer (Tanu): \"Mixed feedback on the new bottom nav bar—older users feel lost. We might need a tooltip or onboarding screen.\"\n",
    "\n",
    "Riya: \"Agreed. Let’s prototype a guide overlay and test it in the beta channel.\"\n",
    "\n",
    "Customer Success (Varun): \"Ticket volume doubled last week. Mostly login-related. We’ll update our FAQ and add a chatbot script for these queries.\"\n",
    "\n",
    "Tech Lead (Nikhil): \"Also, Firebase is flagging performance lags on low-end devices. We’ll prioritize memory optimization in the next sprint.\"\n",
    "\n",
    "Riya: \"Let’s lock sprint goals by Thursday. Thanks all. This was productive.\""
   ]
  },
  {
   "cell_type": "code",
   "execution_count": 24,
   "id": "a769db34",
   "metadata": {},
   "outputs": [],
   "source": [
    "result = chain.invoke({'meeting_caption':\"\"\"Topic: Post-Launch Review of Mobile App Update\n",
    "\n",
    "Product Manager (Riya):\n",
    "\"Now that v3.0 is out, we’ve collected feedback from 500+ users. Let’s discuss performance, bugs, and user feedback.\"\n",
    "\n",
    "Developer (Sandeep):\n",
    "\"Good news: crash rate is below 0.2%. The new authentication flow is stable. One issue—we missed edge cases on OTP resend logic.\"\n",
    "\n",
    "QA Analyst (Fatima):\n",
    "\"We logged 17 bugs post-release, most minor. The OTP issue has been patched in the hotfix.\"\n",
    "\n",
    "UX Designer (Tanu):\n",
    "\"Mixed feedback on the new bottom nav bar—older users feel lost. We might need a tooltip or onboarding screen.\"\n",
    "\n",
    "Riya:\n",
    "\"Agreed. Let’s prototype a guide overlay and test it in the beta channel.\"\n",
    "\n",
    "Customer Success (Varun):\n",
    "\"Ticket volume doubled last week. Mostly login-related. We’ll update our FAQ and add a chatbot script for these queries.\"\n",
    "\n",
    "Tech Lead (Nikhil):\n",
    "\"Also, Firebase is flagging performance lags on low-end devices. We’ll prioritize memory optimization in the next sprint.\"\n",
    "\n",
    "Riya:\n",
    "\"Let’s lock sprint goals by Thursday. Thanks all. This was productive.\"\"\"})"
   ]
  },
  {
   "cell_type": "code",
   "execution_count": 25,
   "id": "3e7d8d52",
   "metadata": {},
   "outputs": [
    {
     "data": {
      "text/plain": [
       "{'summary': 'The meeting discussed the post-launch review of the mobile app update, focusing on performance, bugs, and user feedback.',\n",
       " 'action_items': ['Prototype a guide overlay and test it in the beta channel',\n",
       "  'Update the FAQ and add a chatbot script for login-related queries',\n",
       "  'Prioritize memory optimization in the next sprint'],\n",
       " 'decisions_made': ['Lock sprint goals by Thursday'],\n",
       " 'agenda_highlights': ['Performance, bugs, and user feedback'],\n",
       " 'speaker_highlights': ['UX Designer (Tanu) - mixed feedback on the new bottom nav bar'],\n",
       " 'important_announcements': ['Ticket volume doubled last week, mostly login-related'],\n",
       " 'follow_up_tasks': ['Test the guide overlay in the beta channel',\n",
       "  'Update the FAQ and add a chatbot script'],\n",
       " 'next_steps': ['Prioritize memory optimization in the next sprint',\n",
       "  'Lock sprint goals by Thursday']}"
      ]
     },
     "execution_count": 25,
     "metadata": {},
     "output_type": "execute_result"
    }
   ],
   "source": [
    "result"
   ]
  },
  {
   "cell_type": "code",
   "execution_count": null,
   "id": "c0ef756f",
   "metadata": {},
   "outputs": [],
   "source": []
  }
 ],
 "metadata": {
  "kernelspec": {
   "display_name": "venv",
   "language": "python",
   "name": "python3"
  },
  "language_info": {
   "codemirror_mode": {
    "name": "ipython",
    "version": 3
   },
   "file_extension": ".py",
   "mimetype": "text/x-python",
   "name": "python",
   "nbconvert_exporter": "python",
   "pygments_lexer": "ipython3",
   "version": "3.13.1"
  }
 },
 "nbformat": 4,
 "nbformat_minor": 5
}
