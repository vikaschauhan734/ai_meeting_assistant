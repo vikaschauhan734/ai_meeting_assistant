{
 "cells": [
  {
   "cell_type": "code",
   "execution_count": 1,
   "id": "9d70d758",
   "metadata": {},
   "outputs": [],
   "source": [
    "import whisper"
   ]
  },
  {
   "cell_type": "code",
   "execution_count": 2,
   "id": "a57dc06b",
   "metadata": {},
   "outputs": [
    {
     "name": "stderr",
     "output_type": "stream",
     "text": [
      "100%|█████████████████████████████████████| 1.51G/1.51G [16:23<00:00, 1.65MiB/s]\n"
     ]
    }
   ],
   "source": [
    "model = whisper.load_model(\"turbo\")"
   ]
  },
  {
   "cell_type": "code",
   "execution_count": null,
   "id": "001b2e9c",
   "metadata": {},
   "outputs": [
    {
     "name": "stderr",
     "output_type": "stream",
     "text": [
      "<>:1: SyntaxWarning: invalid escape sequence '\\s'\n",
      "<>:1: SyntaxWarning: invalid escape sequence '\\s'\n",
      "C:\\Users\\Vikas Chauhan\\AppData\\Local\\Temp\\ipykernel_17956\\1674581589.py:1: SyntaxWarning: invalid escape sequence '\\s'\n",
      "  result = model.transcribe(\"sample_recording\\sample1.m4a\")\n",
      "d:\\projects\\ai_meeting_assistant\\venv\\Lib\\site-packages\\whisper\\transcribe.py:132: UserWarning: FP16 is not supported on CPU; using FP32 instead\n",
      "  warnings.warn(\"FP16 is not supported on CPU; using FP32 instead\")\n"
     ]
    }
   ],
   "source": [
    "result = model.transcribe(\"sample_recording/sample1.m4a\")"
   ]
  },
  {
   "cell_type": "code",
   "execution_count": 4,
   "id": "96ffad4e",
   "metadata": {},
   "outputs": [
    {
     "name": "stdout",
     "output_type": "stream",
     "text": [
      " Hi guys, my name is Rhythm. I have one friend. His name is Vikas. He is very stupid sometimes but he has a very good soul and he helps the other person whenever he gets a chance. That's all about him from my side. Thank you.\n"
     ]
    }
   ],
   "source": [
    "print(result[\"text\"])"
   ]
  },
  {
   "cell_type": "code",
   "execution_count": 7,
   "id": "6113851b",
   "metadata": {},
   "outputs": [],
   "source": [
    "result = model.transcribe(\"sample_recording/transcribing_1.mp3\")"
   ]
  },
  {
   "cell_type": "code",
   "execution_count": 9,
   "id": "5c55b89f",
   "metadata": {},
   "outputs": [
    {
     "name": "stdout",
     "output_type": "stream",
     "text": [
      " I want to start off by saying that I know I have an accent and please don't assume it's Russian. More and more people are complaining about the Go Transcript test, about our rules, about the low acceptancy rates and to be honest I've pretty much had it with all this whining. First of all, the tests we've had so far were easy. All you had to do is listen carefully, read our guidelines and do some research. These things are in the job description. Our clients don't always have good quality files, some may have background noise, some might be in a difficult accent, some might contain terms you've never heard of, but we have to provide 98-99% accuracy for all of our clients. We've tried to make sure that our communication with employees and employers is a good one. We're available on Facebook, Skype, live support, email, phone. We answer all kinds of questions regardless of how redundant they are or in some cases even rude. We have at least four ways of explaining how everything works. We tweaked the way we communicate information over and over again in the hope that it'd be clear for everyone. And yet it's not. We're not one of those cold-hearted companies that doesn't give a fuck about its employees. We work with people on a personal level, which is why it's so frustrating for us to see duplicated tests or account selling happening on GT. These things are so disrespectful, I can't even begin to say, you know what, it's wrong on so many levels. I'm not overdramatic and I'm not overreacting. These things happen and we can't allow these kinds of behaviors within our company. You know what, let me tell you a little story. Only three years ago, this company got like three or four orders per week, small ones. We were a handful of transcribers and we didn't have editors. And look where we are now. For someone who comes to us for the first time, they think like, this site always looked like this. This always had this many orders. They always had these rules, this system in place, all of our services and nobody had to really work hard to get where they are now. Well, that's bullshit. We worked our asses off. All you see here today has been done by a programmer and two jacks of all trades. We worked day in and day out. We didn't have time off for months. We added something new every day. We did research. We advertised. We risked all of our savings for the company and it paid out. Now we got from 20 or less transcribers to 2000. We have over 500 editors. We hire all the time. We don't turn anyone down when they're asking for a chance. But what they do with that chance is up to them.\n"
     ]
    }
   ],
   "source": [
    "print(result[\"text\"])"
   ]
  },
  {
   "cell_type": "code",
   "execution_count": 10,
   "id": "3bd6e91d",
   "metadata": {},
   "outputs": [
    {
     "name": "stderr",
     "output_type": "stream",
     "text": [
      "d:\\projects\\ai_meeting_assistant\\venv\\Lib\\site-packages\\whisper\\transcribe.py:132: UserWarning: FP16 is not supported on CPU; using FP32 instead\n",
      "  warnings.warn(\"FP16 is not supported on CPU; using FP32 instead\")\n"
     ]
    }
   ],
   "source": [
    "result = model.transcribe(\"sample_recording/sample2.m4a\")"
   ]
  },
  {
   "cell_type": "code",
   "execution_count": 11,
   "id": "7216c971",
   "metadata": {},
   "outputs": [
    {
     "name": "stdout",
     "output_type": "stream",
     "text": [
      " तेवियो और सजनो ध्यान से सुनिए हमारे बीच में एक शक्स है जिसका नाम विक्कास है बच के रहिए वो आपका बहुत दमाग खाएगा आपको कुछ नहीं करना आपको बस साफधानी बढ़तनी है उस साफधानी में आपको उसे इग्नोर करना है वो आपके पास आएगा बट आपको उसको भाब नहीं देता है\n"
     ]
    }
   ],
   "source": [
    "print(result[\"text\"])"
   ]
  },
  {
   "cell_type": "code",
   "execution_count": 12,
   "id": "09a8989c",
   "metadata": {},
   "outputs": [],
   "source": [
    "result = model.transcribe(\"sample_recording/sample3.m4a\")"
   ]
  },
  {
   "cell_type": "code",
   "execution_count": 13,
   "id": "eca91be9",
   "metadata": {},
   "outputs": [
    {
     "name": "stdout",
     "output_type": "stream",
     "text": [
      " My life has become very entertaining because there is a person who is a man His name is Vikas and he is very funny at the same time he is annoying also But what do you do? Now my friend is going to study Nibhani Jheelna toh padega and now I'm in my survival mode so I need to survive with him somehow\n"
     ]
    }
   ],
   "source": [
    "print(result[\"text\"])"
   ]
  },
  {
   "cell_type": "code",
   "execution_count": 14,
   "id": "b8d365ee",
   "metadata": {},
   "outputs": [
    {
     "name": "stdout",
     "output_type": "stream",
     "text": [
      " What should we talk about today? Well, I heard that people were calling me Hitler on Facebook. Not because, it wasn't because of what I was saying, it was because of the tone. Well, if I was bitchy then, now when I just found out that I'm pregnant and my hormone levels are through the roof, imagine how bitchy I can be now. And they also say that I curse a lot. I don't fucking curse a lot. I only curse when I'm pissed. And, okay, I'll admit, I'm pissed pretty much most of the time. Yeah, call me bitch, call me whatever. You know, the test has to be a bit hard, just a bit, because it's not 10 pages, it's not 10 steps that you have to take, like on other sites. Because, yeah, I've been out there, I've seen the other tests, I know what they're about. So, you should just say thank you for this small test of 3 minutes with no background noise, no trouble transcribing, no trouble doing the quiz, because you have the answers right there in the guidelines. And also, you can look at the samples, etc. Okay, so, as I was saying, what should we talk about today? Oh, I saw another thing on Facebook that I sound like... Selma Hayek. Really? Seriously? She's Mexican, for God's sake. And I'm just starting to say that don't assume that my accent is Russian, which means I'm from somewhere around Russia. So, not Mexico. Get it? Pretty far away from one another? Anyway. Okay, let's move on. So, what I'm doing right now? Right now, I'm just staring at my vodka bottles, which of course I can't have, because remember, I'm pregnant. So, I'm looking at my Smirnoff, Absolute, and I have some champagne as well, and some wine, and of course I can't have any of them. So, I suppose you didn't like my last test, where I was talking about the books, you know, the Polonic books, Chuck Polonic. Did you figure out what I was saying there? Or you just bought the test, like pretty much everybody does? Because now we have some groups that are supposed to help people, guide people. But actually what happens is that sometimes people go into their small private discussions, and when somebody wants to do the test, they just ask someone from that group, Hey, can you help me out with this question and this question? And that's how some people get in, who actually aren't supposed to be here. But it's okay, because we have so many rating systems, that the weeds are going to be pulled out. Yes, I know, blame me, because I'm such a bad person, and I don't sympathize, and I don't emphasize, and all the sized things and words you can think of. I really don't care. So, if you'd like me to set up another test, which will be so academic, and so specific, and you'll have to search all through Google to find out what the fuck I'm saying, Then I can do that. But I think you'll be very happy with this one. Have a great day! Hmmmm... ... Nogons.\n"
     ]
    }
   ],
   "source": [
    "result = model.transcribe(\"sample_recording/transcribing_2.mp3\")\n",
    "print(result[\"text\"])"
   ]
  },
  {
   "cell_type": "code",
   "execution_count": 15,
   "id": "6f51c2e0",
   "metadata": {},
   "outputs": [],
   "source": [
    "# load audio and pad/trim it to fit 30 seconds\n",
    "audio = whisper.load_audio(\"sample_recording/transcribing_1.mp3\")\n",
    "audio = whisper.pad_or_trim(audio)"
   ]
  },
  {
   "cell_type": "code",
   "execution_count": 16,
   "id": "be6b0a8d",
   "metadata": {},
   "outputs": [],
   "source": [
    "# make log-Mel spectrogram and move to the same device as the model\n",
    "mel = whisper.log_mel_spectrogram(audio, n_mels=model.dims.n_mels).to(model.device)"
   ]
  },
  {
   "cell_type": "code",
   "execution_count": 18,
   "id": "8bc0fa47",
   "metadata": {},
   "outputs": [
    {
     "name": "stdout",
     "output_type": "stream",
     "text": [
      "Detected language: en\n"
     ]
    }
   ],
   "source": [
    "# detect the spoken language\n",
    "_, probs = model.detect_language(mel)\n",
    "print(f\"Detected language: {max(probs, key=probs.get)}\")"
   ]
  },
  {
   "cell_type": "code",
   "execution_count": 19,
   "id": "2bc36038",
   "metadata": {},
   "outputs": [],
   "source": [
    "# decode the audio\n",
    "options = whisper.DecodingOptions()\n",
    "result = whisper.decode(model, mel, options)"
   ]
  },
  {
   "cell_type": "code",
   "execution_count": 20,
   "id": "55346a80",
   "metadata": {},
   "outputs": [
    {
     "name": "stdout",
     "output_type": "stream",
     "text": [
      "I want to start off by saying that I know I have an accent and please don't assume it's Russian. More and more people are complaining about the Go Transcript test, about our rules, about the low acceptancy rates and to be honest I've pretty much had it with all this whining. First of all, the tests we've had so far were easy. All you had to do is listen carefully, read our guidelines\n"
     ]
    }
   ],
   "source": [
    "# print the recognized text\n",
    "print(result.text)"
   ]
  },
  {
   "attachments": {
    "image.png": {
     "image/png": "[encoded data removed]"
    }
   },
   "cell_type": "markdown",
   "id": "8aeca6c5",
   "metadata": {},
   "source": [
    "![image.png](attachment:image.png)"
   ]
  },
  {
   "cell_type": "code",
   "execution_count": 1,
   "id": "35e0d6ba",
   "metadata": {},
   "outputs": [],
   "source": [
    "import whisper"
   ]
  },
  {
   "cell_type": "code",
   "execution_count": 2,
   "id": "f37fd044",
   "metadata": {},
   "outputs": [],
   "source": [
    "model = whisper.load_model(\"turbo\")"
   ]
  },
  {
   "cell_type": "code",
   "execution_count": 3,
   "id": "ec7d13ea",
   "metadata": {},
   "outputs": [],
   "source": [
    "# load audio and pad/trim it to fit 30 seconds\n",
    "audio = whisper.load_audio(\"sample_recording/transcribing_1.mp3\")\n",
    "audio = whisper.pad_or_trim(audio)"
   ]
  },
  {
   "cell_type": "code",
   "execution_count": 4,
   "id": "c9bab915",
   "metadata": {},
   "outputs": [],
   "source": [
    "# make log-Mel spectrogram and move to the same device as the model\n",
    "mel = whisper.log_mel_spectrogram(audio, n_mels=model.dims.n_mels).to(model.device)"
   ]
  },
  {
   "cell_type": "code",
   "execution_count": null,
   "id": "f1bad87d",
   "metadata": {},
   "outputs": [
    {
     "name": "stderr",
     "output_type": "stream",
     "text": [
      "d:\\projects\\ai_meeting_assistant\\venv\\Lib\\site-packages\\whisper\\transcribe.py:132: UserWarning: FP16 is not supported on CPU; using FP32 instead\n",
      "  warnings.warn(\"FP16 is not supported on CPU; using FP32 instead\")\n"
     ]
    },
    {
     "name": "stdout",
     "output_type": "stream",
     "text": [
      "\n",
      "📄 Transcription Result:\n",
      " I want to start off by saying that I know I have an accent and please don't assume it's Russian. More and more people are complaining about the Go Transcript test, about our rules, about the low acceptancy rates and to be honest I've pretty much had it with all this whining. First of all, the tests we've had so far were easy. All you had to do is listen carefully, read our guidelines and do some research. These things are in the job description. Our clients don't always have good quality files, some may have background noise, some might be in a difficult accent, some might contain terms you've never heard of, but we have to provide 98-99% accuracy for all of our clients. We've tried to make sure that our communication with employees and employers is a good one. We're available on Facebook, Skype, live support, email, phone. We answer all kinds of questions regardless of how redundant they are or in some cases even rude. We have at least four ways of explaining how everything works. We tweaked the way we communicate information over and over again in the hope that it'd be clear for everyone. And yet it's not. We're not one of those cold-hearted companies that doesn't give a fuck about its employees. We work with people on a personal level, which is why it's so frustrating for us to see duplicated tests or account selling happening on GT. These things are so disrespectful, I can't even begin to say, you know what, it's wrong on so many levels. I'm not overdramatic and I'm not overreacting. These things happen and we can't allow these kinds of behaviors within our company. You know what, let me tell you a little story. Only three years ago, this company got like three or four orders per week, small ones. We were a handful of transcribers and we didn't have editors. And look where we are now. For someone who comes to us for the first time, they think like, this site always looked like this. This always had this many orders. They always had these rules, this system in place, all of our services and nobody had to really work hard to get where they are now. Well, that's bullshit. We worked our asses off. All you see here today has been done by a programmer and two jacks of all trades. We worked day in and day out. We didn't have time off for months. We added something new every day. We did research. We advertised. We risked all of our savings for the company and it paid out. Now we got from 20 or less transcribers to 2000. We have over 500 editors. We hire all the time. We don't turn anyone down when they're asking for a chance. But what they do with that chance is up to them.\n"
     ]
    }
   ],
   "source": [
    "# 1. Speech-to-Text (Transcription)\n",
    "result_transcribe = model.transcribe(\"sample_recording/transcribing_1.mp3\")\n",
    "print(\"\\n Transcription Result:\")\n",
    "print(result_transcribe[\"text\"])"
   ]
  },
  {
   "cell_type": "code",
   "execution_count": 6,
   "id": "a5f36b1a",
   "metadata": {},
   "outputs": [
    {
     "name": "stdout",
     "output_type": "stream",
     "text": [
      "\n",
      " Translation Result (to English):\n",
      " I want to start off by saying that I know I have an accent and please don't assume it's Russian. More and more people are complaining about the Go Transcript test, about our rules, about the low acceptancy rates and to be honest I've pretty much had it with all this whining. First of all, the tests we've had so far were easy. All you had to do is listen carefully, read our guidelines and do some research. These things are in the job description. Our clients don't always have good quality files, some may have background noise, some might be in a difficult accent, some might contain terms you've never heard of, but we have to provide 98-99% accuracy for all of our clients. We've tried to make sure that our communication with employees and employers is a good one. We're available on Facebook, Skype, live support, email, phone. We answer all kinds of questions, regardless of how redundant These things are so disrespectful, I can't even begin to say, you know what, it's wrong on so many levels. I'm not overdramatic and I'm not overreacting. These things happen and we can't allow these kinds of behaviors within our company. You know what, let me tell you a little story. Only three years ago, this company got like three or four orders per week, small ones. a programmer and two jacks of all trades. We worked day in and day out. We didn't have time off for months. We added something new every day. We did research. We advertised. We risked all of our savings for the company and it paid out. Now we got from 20 or less transcribers to 2000. We have over 500 editors. We hire all the time. We don't turn anyone down when they're asking for a chance. But what they do with that\n"
     ]
    }
   ],
   "source": [
    "# 2. Speech Translation (any language → English)\n",
    "result_translate = model.transcribe(\"sample_recording/transcribing_1.mp3\", task=\"translate\")\n",
    "print(\"\\n Translation Result (to English):\")\n",
    "print(result_translate[\"text\"])"
   ]
  },
  {
   "cell_type": "code",
   "execution_count": 7,
   "id": "b1ee83e3",
   "metadata": {},
   "outputs": [
    {
     "name": "stdout",
     "output_type": "stream",
     "text": [
      "\n",
      " Speech detected!\n"
     ]
    }
   ],
   "source": [
    "# 3. Voice Activity Detection (detect speech/no-speech)\n",
    "# Detect if speech exists\n",
    "vad_result = model.transcribe(\"sample_recording/transcribing_1.mp3\", task=\"transcribe\", no_speech_threshold=0.6)\n",
    "if vad_result[\"text\"].strip():\n",
    "    print(\"\\n Speech detected!\")\n",
    "else:\n",
    "    print(\"\\n No speech detected.\")"
   ]
  },
  {
   "cell_type": "code",
   "execution_count": 8,
   "id": "c1f26fad",
   "metadata": {},
   "outputs": [
    {
     "name": "stdout",
     "output_type": "stream",
     "text": [
      "\n",
      " Detected Language: en\n"
     ]
    }
   ],
   "source": [
    "# 4. Language Identification\n",
    "_, probs = model.detect_language(mel)\n",
    "predicted_language = max(probs, key=probs.get)\n",
    "print(\"\\n Detected Language:\", predicted_language)"
   ]
  },
  {
   "cell_type": "code",
   "execution_count": null,
   "id": "4ba06b94",
   "metadata": {},
   "outputs": [],
   "source": []
  }
 ],
 "metadata": {
  "kernelspec": {
   "display_name": "venv",
   "language": "python",
   "name": "python3"
  },
  "language_info": {
   "codemirror_mode": {
    "name": "ipython",
    "version": 3
   },
   "file_extension": ".py",
   "mimetype": "text/x-python",
   "name": "python",
   "nbconvert_exporter": "python",
   "pygments_lexer": "ipython3",
   "version": "3.13.1"
  }
 },
 "nbformat": 4,
 "nbformat_minor": 5
}
